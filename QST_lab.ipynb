{
 "cells": [
  {
   "cell_type": "markdown",
   "id": "45a9488b",
   "metadata": {},
   "source": [
    "# Introduction"
   ]
  },
  {
   "cell_type": "markdown",
   "id": "b49430f6",
   "metadata": {},
   "source": [
    "Measuring the density matrix of a quantum system is crucial for distinguishing between pure states and mixed states, which are fundamental concepts in quantum mechanics. The density matrix provides a comprehensive description of the quantum state of a system, encapsulating both the information about the probabilities of finding the system in different states and the potential correlations between those states. This matrix allows us to delve into the nature of the quantum system's state and its behavior, and it plays a central role in understanding the difference between pure and mixed states.\n",
    "\n",
    "A pure quantum state represents a system in which its state is described by a single, well-defined quantum state vector. Mathematically, this means that the density matrix is a projection operator onto that single state. In a pure state, all the information about the quantum system is known with certainty, and there is no uncertainty associated with the outcome of measurements performed on it\n",
    "\n",
    "$$\n",
    "\\begin{equation}\n",
    "   \\hat{\\rho}_{\\psi} = |\\psi\\rangle\\langle\\psi| = (\\alpha |0\\rangle + \\beta |1\\rangle)(\\alpha* \\langle 0 | + \\beta^* \\langle 1| )= \\begin{pmatrix}\n",
    "            |\\alpha|^2 & \\alpha\\beta^* \\\\\n",
    "           \\alpha^* \\beta&  |\\beta|^2\n",
    "    \\end{pmatrix}. \n",
    "\\end{equation}\n",
    "$$\n",
    "\n",
    "In contrast, a mixed state arises when a quantum system is in a statistical mixture of different pure states. This can result from various scenarios, such as incomplete knowledge about the system's preparation or due to interactions with its environment. In a mixed state, the density matrix is a convex combination of the density matrices corresponding to the individual pure states in the mixture. The off-diagonal elements of the density matrix indicate the degree of coherence or interference between different pure states, reflecting the quantum correlations present in the system.\n",
    "\n",
    "$$\n",
    "\\begin{equation}\n",
    "    \\hat{\\rho}_{mix} = |\\alpha|^2 |0\\rangle\\langle0| + |\\beta|^2 |1\\rangle\\langle1| = \\begin{pmatrix}\n",
    "            |\\alpha|^2 & 0 \\\\\n",
    "            0 &  |\\beta|^2\n",
    "    \\end{pmatrix} .\n",
    "\\end{equation}\n",
    "$$\n",
    "\n",
    "The importance of knowing the density matrix of the system to identify pure states or mixed states has been demonstrated. It is not sufficient to solely know the probabilities of being in one state or another to determine the density matrix, since both can correspond to a quantum superposition or a statistical mixture of states. Experimentally, these probabilities are the only things that can be determined through the repetition of many measurements. Therefore, it is necessary to find methods that allow for a reconstruction of the density matrix from experimental measurements.\n",
    "\n",
    "Quantum state tomography is a discipline whose objective is to develop various techniques to determine the density matrix of a system based on measurements taken on it. Understanding these techniques and their proper implementation is essential when manipulating and controlling the qubit's state. To achieve this, it is always assumed that a large number of copies in the same state are available. In other words, the same state must be generated under the desired conditions multiple times. There are different ways to carry out the process of quantum state tomography, and two possibilities are presented below."
   ]
  },
  {
   "cell_type": "markdown",
   "id": "893f1480",
   "metadata": {},
   "source": [
    "# Linear Quantum State Tomography: Theorical Description"
   ]
  },
  {
   "cell_type": "markdown",
   "id": "b4a73fa8",
   "metadata": {},
   "source": [
    "In this section, a description of the most basic method of tomography is provided, applied to the specific case of a qubit. This method uses a set of orthogonal operators $\\lbrace \\hat{\\Gamma}_{\\mu} \\rbrace $ as a basis, with which the density matrix can be expressed as a linear combination.\n",
    "\n",
    "\\begin{equation}\n",
    "    \\hat{\\rho} = \\sum _{\\nu} r_{\\nu}\\hat{\\Gamma}_{\\nu} \\;\\;\\;\\; \\text{Tr}[\\hat{\\Gamma} _{\\mu} \\hat{\\Gamma} _{\\nu}] = \\delta _{\\mu\\nu},\n",
    "\\end{equation}\n",
    "\n",
    "where these operators must form a basis for the space of hermitian matrices of the considered dimension, and the coefficients $r_\\nu \\in \\mathbb{R}$. In this way, the problem consists of calculating the parameters $r_\\nu$ from the experimental measurements. This can be achieved by computing the expected values of the operators $\\hat{\\Gamma}_{\\mu}$, which leads to\n",
    "\n",
    "$$\n",
    "\\begin{equation}\n",
    "    {\\langle \\hat{\\Gamma}_{\\mu} \\rangle }_{\\rho} = \\text{Tr}[\\hat{\\Gamma} _{\\mu}\\hat{\\rho}] = \\sum _{\\nu} r_{\\nu}\\text{Tr}[\\hat{\\Gamma} _{\\mu}\\hat{\\Gamma}_{\\nu} ] = r_{\\mu}.\n",
    "    \\label{ec: tomografica_valoresperado_r}\n",
    "\\end{equation}\n",
    "$$\n",
    "To carry out this, it is necessary for the operators $\\hat{\\Gamma}_{\\mu}$ to be physical observables that can be measured in the experiment. In this work, we are interested in a quantum bit as a fundamental process for any type of experiments. Thus, the following set of operators is taken\n",
    "$$\n",
    "\\begin{equation}\n",
    "  \\lbrace\\hat{\\Gamma}_{\\nu} \\rbrace _{\\nu = 0} ^3 = \\frac{1}{2} \\lbrace \\hat{I},\\hat{\\sigma}_x,\\hat{\\sigma}_y,\\hat{\\sigma}_z\\rbrace  \\;\\; ; \\;\\; \\text{Tr}[\\hat{\\Gamma} _{\\mu} \\hat{\\Gamma} _{\\nu}] = \\delta _{\\mu\\nu} \\;\\; \\mu, \\nu = 0,1,2,3\n",
    "\\end{equation}\n",
    "$$\n",
    "where $\\hat{I}$ is the identity matrix in two dimensions, and $\\hat{\\sigma}_x$, $\\hat{\\sigma}_y$, and $\\hat{\\sigma}_z$ are the Pauli matrices. This set of physical observables forms a basis in the space of Hermitian matrices of dimension two. It is possible to express these operators as follows:\n",
    "$$\n",
    "\\begin{equation}\n",
    "    \\begin{split}\n",
    "        \\hat{I} &= |0\\rangle\\langle0| + |1\\rangle\\langle1| \\\\\n",
    "        \\hat{\\sigma}_x &= |x_{+}\\rangle\\langle x_{+}| - |x_{-}\\rangle\\langle x_{-}|  \\\\\n",
    "         \\hat{\\sigma}_y &= |y_{+} \\rangle\\langle y_{+}| - | y_{-}\\rangle\\langle y_{-}|  \\\\\n",
    "         \\hat{\\sigma}_z &= |0\\rangle\\langle0| - |1\\rangle\\langle1|\n",
    "    \\end{split}\n",
    "    \\label{ec: Operadores_tomografía_desc_espectral}\n",
    "\\end{equation}\n",
    "$$\n",
    "\n",
    "where $|x_{\\pm}\\rangle$ and $|y_{\\pm}\\rangle$ correspond to the eigenvectors of $\\hat{\\sigma}_x$ and $\\hat{\\sigma}_y$, respectively.  Using these equations, an expression for the coefficients $r{\\mu}$ is obtained us, resulting in\n",
    "$$\n",
    "\\begin{equation}\n",
    "    \\begin{split}\n",
    "        r_0 &=\\frac{1}{2} (P_{|0\\rangle} + P_{|1\\rangle}) \\;\\;\\; ; \\;\\;\\;  r_1 =\\frac{1}{2} (P_{|x_{+}\\rangle} - P_{|x_{-}\\rangle})\\\\\n",
    "         r_2 &=\\frac{1}{2} (P_{|y_{+}\\rangle} - P_{|y_{-}\\rangle)} \\;\\; ; \\;\\;\n",
    "    r_3 =\\frac{1}{2}( P_{|0\\rangle} - P_{|1\\rangle})\n",
    "    \\end{split}\n",
    "    \\label{ec: tomografia_valores_r}\n",
    "\\end{equation}\n",
    "$$\n",
    "where $P_{|\\psi \\rangle} \\equiv \\text{Tr}[|\\psi \\rangle\\langle\\psi |\\hat{\\rho}]$ is the probability of measuring the state $|\\psi \\rangle$. Using the fact that the probabilities of two orthogonal vectors in a two-dimensional space satisfy $P_{|\\psi \\rangle} + P_{|\\psi ^{\\perp}} = 1$, it is possible to rewrite the last equation as\n",
    "$$\n",
    "\\begin{equation}\n",
    "    r_0 = \\frac{1}{2}\\;\\; ; \\;\\;  r_1 = P_{|x_{+}\\rangle} - \\frac{1}{2} \\;\\; ; \\;\\; r_2 = P_{|y_{+}\\rangle} - \\frac{1}{2} \\;\\; ; \\;\\;\n",
    "    r_3 = P_{|0\\rangle} - \\frac{1}{2}.\n",
    "    \\label{ec: Tomo_coefr_prob_final}\n",
    "\\end{equation}\n",
    "$$\n",
    "Therefore, by experimentally measuring the probabilities $P_{|x_{+}\\rangle}$, $P_{|y_{+}\\rangle}$, and $P_{|0\\rangle}$, it is possible to directly reconstruct the density matrix. Note that $r_0 = \\frac{1}{2}$ ensures the condition $\\text{Tr}[\\hat{\\rho}] = 1$."
   ]
  },
  {
   "cell_type": "markdown",
   "id": "02df37ed",
   "metadata": {},
   "source": [
    "# Quantum State Tomography: Practical Implementation"
   ]
  },
  {
   "cell_type": "markdown",
   "id": "6b5db73d",
   "metadata": {},
   "source": [
    "In this section, the necessary considerations are developed to apply quantum tomography. However, to achieve this, it is necessary to perform projective measurements on different states $|\\psi_{\\mu} \\rangle$. This is not directly feasible in the experimental setup of the linear Paul trap. Only the probability of being in the state $|0\\rangle$ (or $|1\\rangle$) can be measured using the 397 nm radial laser beam. There is a possibility to relate the probabilities $P_{| \\psi_{\\mu} \\rangle}$ to projections onto $|0$ by using the unitary transformation $\\hat{\\mathcal{U}}_\\mu$ that links these states. This can be seen by developing the probability\n",
    "$$\n",
    "\\begin{equation}\n",
    "   P_{|\\psi_{\\mu} \\rangle} =\\text{Tr}[|\\psi_{\\mu} \\rangle\\langle \\psi_{\\mu}|\\hat{\\rho}] = \\text{Tr}[\\hat{\\mathcal{U}}_\\mu |0\\rangle\\langle 0|\\hat{\\mathcal{U}}_\\mu^{\\dagger}\\rho] = \\text{Tr}[|0\\rangle\\langle 0|\\hat{\\mathcal{U}}_\\mu^{\\dagger}\\rho \\hat{\\mathcal{U}}_\\mu] \n",
    "\\end{equation}\n",
    "$$\n",
    "$$\n",
    "\\begin{equation}\n",
    "      P_{|\\psi_{\\mu} \\rangle} = \\text{Tr}[|0\\rangle\\langle 0|\\hat{\\rho}'_{\\mu}] \\;\\; \\hat{\\rho}'_{\\mu} \\equiv \\hat{\\mathcal{U}}_\\mu^{\\dagger}\\hat{\\rho} \\hat{\\mathcal{U}}_\\mu\n",
    "      \\label{ec: Implementación_evol_densidad}\n",
    "\\end{equation}\n",
    "$$\n",
    "where $|\\psi_{\\mu} \\rangle = \\hat{\\mathcal{U}}\\mu |0\\rangle$ has been used along with the cyclic property of the trace. Therefore, it can be observed that the probability $P{\\psi_{\\mu} \\rangle}$ of being in the state $\\psi_{\\mu} \\rangle$ in a system described by $\\hat{\\rho}$ is equivalent to measuring the probability of being in $|0\\rangle$ in a system described by $\\hat{\\rho}'{\\mu}$. Thus, in order to reconstruct the density matrix, it's necessary to implement a set of transformations on the qubit that allow for the corresponding projective measurements. As discussed for linear tomography, the goal is to measure the probabilities $P{|0\\rangle}$, $P_{|x_{+}\\rangle}$, and $P_{|y_{+}\\rangle}$. To calculate $P_{|x_{+}\\rangle}$ and $P_{|y_{+}\\rangle}$, it will be necessary to use the carrier transition to conveniently rotate the qubit state."
   ]
  },
  {
   "cell_type": "markdown",
   "id": "e5220252",
   "metadata": {},
   "source": [
    "# Qiskit Package"
   ]
  },
  {
   "cell_type": "markdown",
   "id": "b2228f75",
   "metadata": {},
   "source": [
    "Qiskit is an open-source framework for working with quantum computers. It provides tools to create, simulate, and execute quantum circuits. Key features include:\n",
    "\n",
    "-QuantumCircuit: Build circuits using gates like Hadamard, X, Y, and Z. You can visualize circuits using draw().\n",
    "\n",
    "-Aer Simulator: Simulate circuits using Aer for fast testing and debugging.\n",
    "\n",
    "-Real Quantum Devices: Run circuits on IBM Quantum devices for real-world experimentation.\n",
    "\n",
    "-Quantum Algorithms: Qiskit offers algorithms like Grover's search and tools for quantum chemistry, optimization, and machine learning.\n",
    "\n",
    "See more on the documentation: https://qiskit.org/documentation/\n"
   ]
  },
  {
   "cell_type": "markdown",
   "id": "24d7b3c9",
   "metadata": {},
   "source": [
    "# Importing Packages"
   ]
  },
  {
   "cell_type": "code",
   "execution_count": 319,
   "id": "b9a7e38d-2277-4552-b379-6f22138dda04",
   "metadata": {},
   "outputs": [],
   "source": [
    "import numpy as np\n",
    "from qiskit import QuantumCircuit, transpile\n",
    "from qiskit_aer import AerSimulator\n",
    "import qiskit.quantum_info as qi\n",
    "from qiskit.quantum_info import DensityMatrix, partial_trace"
   ]
  },
  {
   "cell_type": "markdown",
   "id": "00b9c7cf",
   "metadata": {},
   "source": [
    "# Defining Basic functions"
   ]
  },
  {
   "cell_type": "code",
   "execution_count": 334,
   "id": "2f052fc5",
   "metadata": {},
   "outputs": [],
   "source": [
    "# Function that takes 2 complex numbers and give a normalize state vector \n",
    "# and the corresponding density matrix\n",
    "def norm_state(alpha,beta):\n",
    "    # Generating a Statevector variable using qiskit\n",
    "    state = qi.Statevector([alpha, beta])\n",
    "    state_conj = state.conjugate()\n",
    "\n",
    "    # Normalizing the State\n",
    "    mod = np.sqrt(state_conj.data[0] * state.data[0] + state_conj.data[1] * state.data[1])\n",
    "    state = (1 / mod) * state\n",
    "\n",
    "    # Generating the Density Matrix\n",
    "    state_dm = qi.DensityMatrix(state.data)\n",
    "    \n",
    "    return state, state_dm\n"
   ]
  },
  {
   "cell_type": "code",
   "execution_count": 335,
   "id": "3a41ca71",
   "metadata": {},
   "outputs": [],
   "source": [
    "# Function that take a certain dictionary and returns a quantum circuit\n",
    "# with the corresponding rotations for doing the projective measure of\n",
    "# a certain state\n",
    "def measure_qc(angle_dic):\n",
    "    # Creating the Quantum Circuit\n",
    "    qc = QuantumCircuit(1)\n",
    "    aux_qc = QuantumCircuit(1)\n",
    "\n",
    "    keys_dict = list(angle_dic.keys())\n",
    "    \n",
    "    # Adding quatum gates depending on \"angle_dic\"\n",
    "    # These are the corresponding tranformation for measuring the qubit\n",
    "    # in the desired state\n",
    "    for key in keys_dict:\n",
    "        if key == \"x\":\n",
    "            qc.rx(- angle_dic[key], 0)\n",
    "            aux_qc.rx(angle_dic[key], 0)\n",
    "        if key == \"y\":\n",
    "            qc.ry(- angle_dic[key], 0)\n",
    "            aux_qc.ry(angle_dic[key], 0)\n",
    "        if key == \"z\":\n",
    "            qc.rz(- angle_dic[key], 0)\n",
    "            aux_qc.rz(angle_dic[key], 0)\n",
    "    \n",
    "    # Adding the measurement to the quantum circuit\n",
    "    qc.measure_all()\n",
    "    return qc, aux_qc\n"
   ]
  },
  {
   "cell_type": "code",
   "execution_count": 336,
   "id": "922f253e",
   "metadata": {},
   "outputs": [],
   "source": [
    "def simulate_qc(qc, n):\n",
    "    # Create the simulator\n",
    "    simulator = AerSimulator()\n",
    "    \n",
    "    # Compiled the circuit using the \"simulator\"\n",
    "    qc_compiled = transpile(qc, simulator)\n",
    "    \n",
    "    # Send a job with a certain number of shots\n",
    "    job = simulator.run(qc_compiled, shots = n)\n",
    "    \n",
    "    # Get the number of times that the measurement gave \"0\"\n",
    "    # It will give an error if there's no probability of being in \"0\" state\n",
    "    # This can be change to \"1\"  \n",
    "    counts = job.result().get_counts(qc)\n",
    "    prob = counts[\"0\"] / n\n",
    "    \n",
    "    return prob\n",
    "    "
   ]
  },
  {
   "cell_type": "markdown",
   "id": "29d2b862",
   "metadata": {},
   "source": [
    "### Example\n"
   ]
  },
  {
   "cell_type": "code",
   "execution_count": 337,
   "id": "0a5aa305",
   "metadata": {},
   "outputs": [
    {
     "data": {
      "image/png": "[encoded data removed]",
      "text/plain": [
       "<Figure size 747.609x200.667 with 1 Axes>"
      ]
     },
     "execution_count": 337,
     "metadata": {},
     "output_type": "execute_result"
    }
   ],
   "source": [
    "# Python Dictionary for specifying x, y, and z rotations with a certain angle\"\n",
    "angle_dic_plusx = {\n",
    "    \"x\": np.pi / 2,\n",
    "    \"y\": 0,\n",
    "    \"z\": 0\n",
    "}\n",
    "\n",
    "# Creating a normalize state vector and the corresponding density matrix\n",
    "state, dm_state = norm_state(1,1)\n",
    "\n",
    "# Creating a quatum circuit to initialize the \"state\"\n",
    "init_state_qc = QuantumCircuit(1)\n",
    "init_state_qc.initialize(state, init_state_qc.qubits)\n",
    "\n",
    "# Building the quantum circuit with \"angle_dic_plusx\"\n",
    "qc,aux_prueba = measure_qc(angle_dic_plusx)\n",
    "\n",
    "# Composing the circuits\n",
    "qc = init_state_qc.compose(qc)\n",
    "\n",
    "# Drawing the quantum circuit\n",
    "qc.draw(\"mpl\")"
   ]
  },
  {
   "cell_type": "code",
   "execution_count": 338,
   "id": "3738e56f",
   "metadata": {},
   "outputs": [
    {
     "name": "stdout",
     "output_type": "stream",
     "text": [
      "0.486\n"
     ]
    }
   ],
   "source": [
    "# Simulating the quantum circuit and getting the probability\n",
    "# Each time you run this cell, the outcome might be different\n",
    "# You can play changing the number of shots\n",
    "num = 1000\n",
    "prob_x = simulate_qc(qc_prueba, num)\n",
    "print(prob_x)"
   ]
  },
  {
   "cell_type": "markdown",
   "id": "bcbb37cf",
   "metadata": {},
   "source": [
    "# Linear Quantum State Tomography: Pure States\n"
   ]
  },
  {
   "cell_type": "code",
   "execution_count": 339,
   "id": "305ce4e2",
   "metadata": {},
   "outputs": [
    {
     "name": "stdout",
     "output_type": "stream",
     "text": [
      "Statevector([0.70710678+0.j, 0.70710678+0.j],\n",
      "            dims=(2,))\n"
     ]
    },
    {
     "data": {
      "text/latex": [
       "$$\n",
       "\n",
       "\\begin{bmatrix}\n",
       "\\frac{1}{2} & \\frac{1}{2}  \\\\\n",
       " \\frac{1}{2} & \\frac{1}{2}  \\\\\n",
       " \\end{bmatrix}\n",
       "$$"
      ],
      "text/plain": [
       "<IPython.core.display.Latex object>"
      ]
     },
     "execution_count": 339,
     "metadata": {},
     "output_type": "execute_result"
    }
   ],
   "source": [
    "# Generate any desired state\n",
    "# This is going to be the state we want to measure\n",
    "state, state_dm = norm_state(1,1)\n",
    "print(state)\n",
    "state_dm.draw(\"latex\")"
   ]
  },
  {
   "cell_type": "code",
   "execution_count": 340,
   "id": "5d90569a",
   "metadata": {},
   "outputs": [],
   "source": [
    "# Defining the dictionaries for each of the measurements \n",
    "angle_xplus = {\n",
    "    \"x\": 0,\n",
    "    \"y\": np.pi / 2,\n",
    "    \"z\": 0\n",
    "}\n",
    "\n",
    "angle_yplus = {\n",
    "    \"x\": np.pi / 2,\n",
    "    \"y\": 0,\n",
    "    \"z\": 0\n",
    "}\n",
    "\n",
    "angle_z = {\n",
    "    \"x\": 0,\n",
    "    \"y\": 0,\n",
    "    \"z\": 0\n",
    "}\n",
    "\n",
    "# Creating a quatum circuit to initialize the \"state\"\n",
    "init_state_qc = QuantumCircuit(1)\n",
    "init_state_qc.initialize(state, init_state_qc.qubits)\n",
    "\n",
    "# Building each quantum circuit\n",
    "qc_x, aux_x = measure_qc(angle_xplus)\n",
    "qc_y, aux_y = measure_qc(angle_yplus)\n",
    "qc_z, aux_z = measure_qc(angle_z)\n",
    "\n",
    "# Composing the circuits\n",
    "qc_x = init_state_qc.compose(qc_x)\n",
    "qc_y = init_state_qc.compose(qc_y)\n",
    "qc_z = init_state_qc.compose(qc_z)\n",
    "        "
   ]
  },
  {
   "cell_type": "code",
   "execution_count": 341,
   "id": "4102c8d0",
   "metadata": {},
   "outputs": [
    {
     "data": {
      "image/png": "[encoded data removed]",
      "text/plain": [
       "<Figure size 747.609x200.667 with 1 Axes>"
      ]
     },
     "execution_count": 341,
     "metadata": {},
     "output_type": "execute_result"
    }
   ],
   "source": [
    "qc_x.draw(\"mpl\")"
   ]
  },
  {
   "cell_type": "code",
   "execution_count": 342,
   "id": "9dcd3f3c",
   "metadata": {},
   "outputs": [
    {
     "data": {
      "image/png": "[encoded data removed]",
      "text/plain": [
       "<Figure size 747.609x200.667 with 1 Axes>"
      ]
     },
     "execution_count": 342,
     "metadata": {},
     "output_type": "execute_result"
    }
   ],
   "source": [
    "qc_y.draw(\"mpl\")"
   ]
  },
  {
   "cell_type": "code",
   "execution_count": 343,
   "id": "7126d637",
   "metadata": {},
   "outputs": [
    {
     "data": {
      "image/png": "[encoded data removed]",
      "text/plain": [
       "<Figure size 747.609x200.667 with 1 Axes>"
      ]
     },
     "execution_count": 343,
     "metadata": {},
     "output_type": "execute_result"
    }
   ],
   "source": [
    "qc_z.draw(\"mpl\")"
   ]
  },
  {
   "cell_type": "code",
   "execution_count": 344,
   "id": "860d4f68",
   "metadata": {},
   "outputs": [
    {
     "name": "stdout",
     "output_type": "stream",
     "text": [
      "Prob x: 1.0\n",
      "Prob y: 0.478\n",
      "Prob z: 0.5\n"
     ]
    }
   ],
   "source": [
    "# Getting the probabilities out of the simultaion\n",
    "# The probabilites might change each time you run this cell\n",
    "num = 1000\n",
    "p_x = simulate_qc(qc_x, num)\n",
    "p_y = simulate_qc(qc_y, num)\n",
    "p_z = simulate_qc(qc_z, num)\n",
    "\n",
    "print(\"Prob x:\",p_x)\n",
    "print(\"Prob y:\",p_y)\n",
    "print(\"Prob z:\",p_z)"
   ]
  },
  {
   "cell_type": "code",
   "execution_count": 345,
   "id": "58b6586c",
   "metadata": {},
   "outputs": [],
   "source": [
    "# Calculating the coefficients for the density matrix out of the \"experimental\" probabilities\n",
    "r_x = p_x - 1. / 2\n",
    "r_y = p_y - 1. / 2\n",
    "r_z = p_z - 1. / 2\n",
    "\n",
    "# Obtaining the density matrix using the coefficients\n",
    "final_dm = 1 / 2 * qi.Operator.from_label(\"I\") + r_x * qi.Operator.from_label(\"X\")\n",
    "final_dm = final_dm + r_y * qi.Operator.from_label(\"Y\") + r_z * qi.Operator.from_label(\"Z\")\n",
    "final_dm = qi.DensityMatrix(final_dm)"
   ]
  },
  {
   "cell_type": "code",
   "execution_count": 346,
   "id": "9d8069e5",
   "metadata": {},
   "outputs": [
    {
     "data": {
      "text/latex": [
       "$$\n",
       "\n",
       "\\begin{bmatrix}\n",
       "\\frac{1}{2} & \\frac{1}{2} + \\frac{11 i}{500}  \\\\\n",
       " \\frac{1}{2} - \\frac{11 i}{500} & \\frac{1}{2}  \\\\\n",
       " \\end{bmatrix}\n",
       "$$"
      ],
      "text/plain": [
       "<IPython.core.display.Latex object>"
      ]
     },
     "execution_count": 346,
     "metadata": {},
     "output_type": "execute_result"
    }
   ],
   "source": [
    "final_dm.draw(\"latex\")"
   ]
  },
  {
   "cell_type": "code",
   "execution_count": 347,
   "id": "1d5126e3",
   "metadata": {},
   "outputs": [
    {
     "data": {
      "text/latex": [
       "$$\n",
       "\n",
       "\\begin{bmatrix}\n",
       "\\frac{1}{2} & \\frac{1}{2}  \\\\\n",
       " \\frac{1}{2} & \\frac{1}{2}  \\\\\n",
       " \\end{bmatrix}\n",
       "$$"
      ],
      "text/plain": [
       "<IPython.core.display.Latex object>"
      ]
     },
     "execution_count": 347,
     "metadata": {},
     "output_type": "execute_result"
    }
   ],
   "source": [
    "state_dm.draw(\"latex\")"
   ]
  },
  {
   "cell_type": "code",
   "execution_count": 348,
   "id": "52a20a3a",
   "metadata": {},
   "outputs": [
    {
     "name": "stdout",
     "output_type": "stream",
     "text": [
      "Autovalores de la matriz densidad por Tomografía Lineal:  [ 1.00048377e+00-3.46944695e-18j -4.83765970e-04+3.46944695e-18j] \n",
      "\n",
      "Autovalores de la matriz densidad originial:  [ 1.00000000e+00+0.j -8.71576399e-33+0.j] \n",
      "\n"
     ]
    }
   ],
   "source": [
    "# Obtaining the eigenvalues of each matrix to compare them\n",
    "auto_tomography = np.linalg.eig(final_dm)\n",
    "auto_orignial = np.linalg.eig(state_dm)\n",
    "print(\"Autovalores de la matriz densidad por Tomografía Lineal: \", auto_tomography[0],\"\\n\")\n",
    "print(\"Autovalores de la matriz densidad originial: \", auto_orignial[0],\"\\n\")"
   ]
  },
  {
   "cell_type": "code",
   "execution_count": 349,
   "id": "51296599",
   "metadata": {},
   "outputs": [
    {
     "name": "stdout",
     "output_type": "stream",
     "text": [
      "0.0004837659704867159\n",
      "0.00048376597048585687\n"
     ]
    }
   ],
   "source": [
    "# Calculating the absolute difference between the eigenvalues\n",
    "print(abs(auto_tomography[0][0] - auto_orignial[0][0]))\n",
    "print(abs(auto_tomography[0][1] - auto_orignial[0][1]))"
   ]
  },
  {
   "cell_type": "markdown",
   "id": "fe6ecd64",
   "metadata": {},
   "source": [
    "# Linear Quantum State Tomography: Mixed States"
   ]
  },
  {
   "cell_type": "markdown",
   "id": "8105aab4",
   "metadata": {},
   "source": [
    "In Qiskit, to create a mixed state, you can use a 2-qubit quantum system and control gates. A mixed state arises when a quantum system is in a statistical mixture of different pure states. This can be achieved by preparing individual qubits in specific pure states and then applying control gates to entangle or combine their states. The controlled operations allow you to manipulate the correlations between the qubits, leading to a mixture of states. In here, we will show an example for creating the following mixed state:\n",
    "\n",
    "$$\n",
    "\\begin{equation}\n",
    "    \\hat \\rho = \\frac{1}{2} |1 \\rangle \\langle 1 | + \\frac{1}{2} | x_+ \\rangle \\langle x_+ |\n",
    "\\end{equation}\n",
    "$$"
   ]
  },
  {
   "cell_type": "code",
   "execution_count": 350,
   "id": "2def1894",
   "metadata": {},
   "outputs": [
    {
     "data": {
      "text/latex": [
       "$$\n",
       "\n",
       "\\begin{bmatrix}\n",
       "\\frac{1}{4} & \\frac{1}{4}  \\\\\n",
       " \\frac{1}{4} & \\frac{3}{4}  \\\\\n",
       " \\end{bmatrix}\n",
       "$$"
      ],
      "text/plain": [
       "<IPython.core.display.Latex object>"
      ]
     },
     "execution_count": 350,
     "metadata": {},
     "output_type": "execute_result"
    }
   ],
   "source": [
    "def mixed_1(qc):\n",
    "    # Creating 2-qubit circuit\n",
    "    mix_qc = QuantumCircuit(2)\n",
    "    \n",
    "    # Adding tranformations for creating the mixed state\n",
    "    mix_qc.h(1)\n",
    "    mix_qc.cx(1,0)\n",
    "    mix_qc.x(1)\n",
    "    mix_qc.ch(1,0)\n",
    "    mix_qc.barrier()\n",
    "    \n",
    "    # Compose with the given quantum circuit \"qc\"\n",
    "    qc = mix_qc.compose(qc)\n",
    "    \n",
    "    # Obtain the partial matrix for the first qubit\n",
    "    # This is the density matrix, \"the initial state\"\n",
    "    mixed_dm = DensityMatrix.from_instruction(mix_qc)\n",
    "    mixed_dm = partial_trace(mixed_dm, [1])\n",
    "        \n",
    "    return qc, mixed_dm\n",
    "\n",
    "# Building each quantum circuit (same as before)\n",
    "qc_x, aux_x = measure_qc(angle_xplus)\n",
    "qc_y, aux_y = measure_qc(angle_yplus)\n",
    "qc_z, aux_z = measure_qc(angle_z)\n",
    "\n",
    "# Adding the Initialization to a Mixed State\n",
    "qc_x_mix, mixed_dm = mixed_1(qc_x)\n",
    "qc_y_mix, mixed_dm = mixed_1(qc_y)\n",
    "qc_z_mix, mixed_dm = mixed_1(qc_z)\n",
    "\n",
    "# Printing the density matrix of the mixed State\n",
    "mixed_dm.draw(\"latex\")"
   ]
  },
  {
   "cell_type": "code",
   "execution_count": 351,
   "id": "05639b92",
   "metadata": {},
   "outputs": [
    {
     "data": {
      "image/png": "[encoded data removed]",
      "text/plain": [
       "<Figure size 998.442x284.278 with 1 Axes>"
      ]
     },
     "execution_count": 351,
     "metadata": {},
     "output_type": "execute_result"
    }
   ],
   "source": [
    "qc_x_mix.draw(\"mpl\")"
   ]
  },
  {
   "cell_type": "code",
   "execution_count": 352,
   "id": "67c4170e",
   "metadata": {},
   "outputs": [
    {
     "data": {
      "image/png": "[encoded data removed]",
      "text/plain": [
       "<Figure size 998.442x284.278 with 1 Axes>"
      ]
     },
     "execution_count": 352,
     "metadata": {},
     "output_type": "execute_result"
    }
   ],
   "source": [
    "qc_y_mix.draw(\"mpl\")"
   ]
  },
  {
   "cell_type": "code",
   "execution_count": 353,
   "id": "c6464435",
   "metadata": {},
   "outputs": [
    {
     "data": {
      "image/png": "[encoded data removed]",
      "text/plain": [
       "<Figure size 998.442x284.278 with 1 Axes>"
      ]
     },
     "execution_count": 353,
     "metadata": {},
     "output_type": "execute_result"
    }
   ],
   "source": [
    "qc_z_mix.draw(\"mpl\")"
   ]
  },
  {
   "cell_type": "code",
   "execution_count": 354,
   "id": "d9311550",
   "metadata": {},
   "outputs": [
    {
     "data": {
      "text/latex": [
       "$$\n",
       "\n",
       "\\begin{bmatrix}\n",
       "0.27 & 0.227 - 0.038 i  \\\\\n",
       " 0.227 + 0.038 i & 0.73  \\\\\n",
       " \\end{bmatrix}\n",
       "$$"
      ],
      "text/plain": [
       "<IPython.core.display.Latex object>"
      ]
     },
     "execution_count": 354,
     "metadata": {},
     "output_type": "execute_result"
    }
   ],
   "source": [
    "# Getting the probabilities out of the simultaion\n",
    "# The probabilites might change each time you run this cell\n",
    "num = 1000\n",
    "p_x = simulate_qc(qc_x_mix, num)\n",
    "p_y = simulate_qc(qc_y_mix, num)\n",
    "p_z = simulate_qc(qc_z_mix, num)\n",
    "\n",
    "# Calculating the coefficients for the density matrix out of the \"experimental\" probabilities\n",
    "r_x = p_x - 1. / 2\n",
    "r_y = p_y - 1. / 2\n",
    "r_z = p_z - 1. / 2\n",
    "\n",
    "# Obtaining the density matrix using the coefficients\n",
    "final_dm = 1 / 2 * qi.Operator.from_label(\"I\") + r_x * qi.Operator.from_label(\"X\")\n",
    "final_dm = final_dm + r_y * qi.Operator.from_label(\"Y\") + r_z * qi.Operator.from_label(\"Z\")\n",
    "final_dm = qi.DensityMatrix(final_dm)\n",
    "\n",
    "final_dm.draw(\"latex\")"
   ]
  },
  {
   "cell_type": "code",
   "execution_count": 355,
   "id": "807ad871",
   "metadata": {},
   "outputs": [
    {
     "data": {
      "text/latex": [
       "$$\n",
       "\n",
       "\\begin{bmatrix}\n",
       "\\frac{1}{4} & \\frac{1}{4}  \\\\\n",
       " \\frac{1}{4} & \\frac{3}{4}  \\\\\n",
       " \\end{bmatrix}\n",
       "$$"
      ],
      "text/plain": [
       "<IPython.core.display.Latex object>"
      ]
     },
     "execution_count": 355,
     "metadata": {},
     "output_type": "execute_result"
    }
   ],
   "source": [
    "mixed_dm.draw(\"latex\")"
   ]
  },
  {
   "cell_type": "code",
   "execution_count": 356,
   "id": "cc3d995c",
   "metadata": {},
   "outputs": [
    {
     "name": "stdout",
     "output_type": "stream",
     "text": [
      "Autovalores de la matriz densidad por Tomografía Lineal:  [0.17461869-1.61397852e-18j 0.82538131-2.61415971e-17j] \n",
      "\n",
      "Autovalores de la matriz densidad originial:  [0.14644661+0.j 0.85355339+0.j] \n",
      "\n"
     ]
    }
   ],
   "source": [
    "auto_tomography = np.linalg.eig(final_dm)\n",
    "auto_orignial = np.linalg.eig(mixed_dm)\n",
    "print(\"Autovalores de la matriz densidad por Tomografía Lineal: \", auto_tomography[0],\"\\n\")\n",
    "print(\"Autovalores de la matriz densidad originial: \", auto_orignial[0],\"\\n\")"
   ]
  },
  {
   "cell_type": "code",
   "execution_count": 357,
   "id": "7f598b9c",
   "metadata": {},
   "outputs": [
    {
     "name": "stdout",
     "output_type": "stream",
     "text": [
      "0.02817207582550793\n",
      "0.028172075825507514\n"
     ]
    }
   ],
   "source": [
    "print(abs(auto_tomography[0][0] - auto_orignial[0][0]))\n",
    "print(abs(auto_tomography[0][1] - auto_orignial[0][1]))"
   ]
  }
 ],
 "metadata": {
  "kernelspec": {
   "display_name": "venv",
   "language": "python",
   "name": "venv"
  },
  "language_info": {
   "codemirror_mode": {
    "name": "ipython",
    "version": 3
   },
   "file_extension": ".py",
   "mimetype": "text/x-python",
   "name": "python",
   "nbconvert_exporter": "python",
   "pygments_lexer": "ipython3",
   "version": "3.10.7"
  }
 },
 "nbformat": 4,
 "nbformat_minor": 5
}
